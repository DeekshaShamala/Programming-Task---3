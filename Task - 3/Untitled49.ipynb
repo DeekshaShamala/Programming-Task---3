{
  "nbformat": 4,
  "nbformat_minor": 0,
  "metadata": {
    "colab": {
      "provenance": []
    },
    "kernelspec": {
      "name": "python3",
      "display_name": "Python 3"
    },
    "language_info": {
      "name": "python"
    }
  },
  "cells": [
    {
      "cell_type": "code",
      "execution_count": null,
      "metadata": {
        "id": "CviQt11h9KU0"
      },
      "outputs": [],
      "source": [
        "import cmath\n",
        "\n",
        "a,b = cmath.polar(complex(input()))\n",
        "\n",
        "print(a)\n",
        "\n",
        "print(b)"
      ]
    }
  ]
}