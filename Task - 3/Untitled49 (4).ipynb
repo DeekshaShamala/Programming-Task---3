{
  "nbformat": 4,
  "nbformat_minor": 0,
  "metadata": {
    "colab": {
      "provenance": []
    },
    "kernelspec": {
      "name": "python3",
      "display_name": "Python 3"
    },
    "language_info": {
      "name": "python"
    }
  },
  "cells": [
    {
      "cell_type": "code",
      "execution_count": null,
      "metadata": {
        "id": "rdF59aac9IUs"
      },
      "outputs": [],
      "source": [
        "a = int(input())\n",
        "b = int(input())\n",
        "c = int(input())\n",
        "d = int(input())\n",
        "\n",
        "v=pow(a,b)\n",
        "\n",
        "m=pow(c,d)\n",
        "\n",
        "print(v+m)"
      ]
    }
  ]
}