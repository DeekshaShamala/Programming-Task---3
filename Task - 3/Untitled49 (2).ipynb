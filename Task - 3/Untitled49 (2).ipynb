{
  "nbformat": 4,
  "nbformat_minor": 0,
  "metadata": {
    "colab": {
      "provenance": []
    },
    "kernelspec": {
      "name": "python3",
      "display_name": "Python 3"
    },
    "language_info": {
      "name": "python"
    }
  },
  "cells": [
    {
      "cell_type": "code",
      "execution_count": null,
      "metadata": {
        "id": "dV5AkEX69JgT"
      },
      "outputs": [],
      "source": [
        "a=int(input())\n",
        "\n",
        "b=int(input())\n",
        "\n",
        "x=a//b\n",
        "\n",
        "print(x)\n",
        "\n",
        "y=a%b\n",
        "\n",
        "print(y)\n",
        "\n",
        "\n",
        "print(divmod(a,b))"
      ]
    }
  ]
}