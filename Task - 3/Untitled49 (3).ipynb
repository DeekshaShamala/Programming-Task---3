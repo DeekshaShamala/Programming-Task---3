{
  "nbformat": 4,
  "nbformat_minor": 0,
  "metadata": {
    "colab": {
      "provenance": []
    },
    "kernelspec": {
      "name": "python3",
      "display_name": "Python 3"
    },
    "language_info": {
      "name": "python"
    }
  },
  "cells": [
    {
      "cell_type": "code",
      "execution_count": null,
      "metadata": {
        "id": "r58KqWZO9JHc"
      },
      "outputs": [],
      "source": [
        "a,b,c=[int(input()) for i in range(3)]\n",
        "\n",
        "print(pow(a,b),pow(a,b,c),sep='\\n')"
      ]
    }
  ]
}