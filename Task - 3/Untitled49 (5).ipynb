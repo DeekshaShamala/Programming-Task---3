{
  "nbformat": 4,
  "nbformat_minor": 0,
  "metadata": {
    "colab": {
      "provenance": []
    },
    "kernelspec": {
      "name": "python3",
      "display_name": "Python 3"
    },
    "language_info": {
      "name": "python"
    }
  },
  "cells": [
    {
      "cell_type": "code",
      "execution_count": null,
      "metadata": {
        "id": "w2r78Ykp9Hlr"
      },
      "outputs": [],
      "source": [
        "for i in range(1,int(input())): \n",
        "    print(i*round(10**(i)*(1/9)))\n"
      ]
    }
  ]
}