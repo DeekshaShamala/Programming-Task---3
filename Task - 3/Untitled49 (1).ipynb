{
  "nbformat": 4,
  "nbformat_minor": 0,
  "metadata": {
    "colab": {
      "provenance": []
    },
    "kernelspec": {
      "name": "python3",
      "display_name": "Python 3"
    },
    "language_info": {
      "name": "python"
    }
  },
  "cells": [
    {
      "cell_type": "code",
      "execution_count": null,
      "metadata": {
        "id": "N93UlJ3M9J55"
      },
      "outputs": [],
      "source": [
        "import math\n",
        "\n",
        "a = int(input())\n",
        "b = int(input())\n",
        "\n",
        "print(str(round(math.degrees(math.atan(a/b))))+'\\xb0')"
      ]
    }
  ]
}