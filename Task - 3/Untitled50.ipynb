{
  "nbformat": 4,
  "nbformat_minor": 0,
  "metadata": {
    "colab": {
      "provenance": []
    },
    "kernelspec": {
      "name": "python3",
      "display_name": "Python 3"
    },
    "language_info": {
      "name": "python"
    }
  },
  "cells": [
    {
      "cell_type": "code",
      "execution_count": null,
      "metadata": {
        "id": "Y1pOUkK-WwNw"
      },
      "outputs": [],
      "source": [
        "for i in range(1, int(input())+1):\n",
        "    print(((10**i)//9)**2)"
      ]
    }
  ]
}